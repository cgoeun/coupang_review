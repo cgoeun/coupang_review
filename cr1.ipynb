{
 "cells": [
  {
   "cell_type": "code",
   "execution_count": 1,
   "metadata": {},
   "outputs": [],
   "source": [
    "import pandas as pd\n",
    "import numpy as np"
   ]
  },
  {
   "cell_type": "code",
   "execution_count": 5,
   "metadata": {},
   "outputs": [],
   "source": [
    "data = pd.read_csv('./reviews_token.csv')\n",
    "data['label'] = 0"
   ]
  },
  {
   "cell_type": "code",
   "execution_count": 15,
   "metadata": {},
   "outputs": [
    {
     "name": "stderr",
     "output_type": "stream",
     "text": [
      "C:\\Users\\admin\\AppData\\Local\\Temp\\ipykernel_10852\\979155014.py:3: SettingWithCopyWarning: \n",
      "A value is trying to be set on a copy of a slice from a DataFrame\n",
      "\n",
      "See the caveats in the documentation: https://pandas.pydata.org/pandas-docs/stable/user_guide/indexing.html#returning-a-view-versus-a-copy\n",
      "  data['label'].iloc[i] = 1\n",
      "C:\\Users\\admin\\AppData\\Local\\Temp\\ipykernel_10852\\979155014.py:5: SettingWithCopyWarning: \n",
      "A value is trying to be set on a copy of a slice from a DataFrame\n",
      "\n",
      "See the caveats in the documentation: https://pandas.pydata.org/pandas-docs/stable/user_guide/indexing.html#returning-a-view-versus-a-copy\n",
      "  data['label'].iloc[i] = 0\n"
     ]
    }
   ],
   "source": [
    "for i in range(len(data)):\n",
    "    if data['star'].iloc[i] == 5 :\n",
    "        data['label'].iloc[i] = 1\n",
    "    elif data['star'].iloc[i] == 1 or data['star'].iloc[i] == 2 : #or data['star'].iloc[i] == 3 or data['star'].iloc[i] == 4\n",
    "        data['label'].iloc[i] = 0"
   ]
  },
  {
   "cell_type": "markdown",
   "metadata": {},
   "source": [
    "참고 : https://team-ak.tistory.com/2"
   ]
  },
  {
   "cell_type": "code",
   "execution_count": 9,
   "metadata": {},
   "outputs": [],
   "source": [
    "def print_class_num(df, label_name):            # 이진 클래스의 비율을 알아보기 위한 함수\n",
    "  n_total = len(df)                             # 데이터의 총 개수\n",
    "  n_neg = len(df.query(label_name + ' == 0'))   # label로 사용하는 열의 1 개수\n",
    "  n_pos = len(df.query(label_name + ' == 1'))   # label로 사용하는 열의 0 개수\n",
    "\n",
    "  print(\"부정 댓글: {}개, {:.2f}%\".format(n_neg, n_neg*100/n_total))\n",
    "  print(\"긍정 댓글: {}개, {:.2f}%\\n\".format(n_pos, n_pos*100/n_total))\n",
    "\n",
    "  values = df[label_name].value_counts()        # label로 사용하는 열의 값을 카운트 \n",
    "  values.plot(kind='bar')\n",
    "  print(values)"
   ]
  },
  {
   "cell_type": "code",
   "execution_count": 28,
   "metadata": {},
   "outputs": [
    {
     "name": "stderr",
     "output_type": "stream",
     "text": [
      "C:\\Users\\admin\\AppData\\Local\\Temp\\ipykernel_10852\\3876798870.py:2: FutureWarning: The frame.append method is deprecated and will be removed from pandas in a future version. Use pandas.concat instead.\n",
      "  data2 = data2.append(data[data['star']==2])\n",
      "C:\\Users\\admin\\AppData\\Local\\Temp\\ipykernel_10852\\3876798870.py:3: FutureWarning: The frame.append method is deprecated and will be removed from pandas in a future version. Use pandas.concat instead.\n",
      "  data2 = data2.append(data[data['star']==5])\n"
     ]
    },
    {
     "data": {
      "text/html": [
       "<div>\n",
       "<style scoped>\n",
       "    .dataframe tbody tr th:only-of-type {\n",
       "        vertical-align: middle;\n",
       "    }\n",
       "\n",
       "    .dataframe tbody tr th {\n",
       "        vertical-align: top;\n",
       "    }\n",
       "\n",
       "    .dataframe thead th {\n",
       "        text-align: right;\n",
       "    }\n",
       "</style>\n",
       "<table border=\"1\" class=\"dataframe\">\n",
       "  <thead>\n",
       "    <tr style=\"text-align: right;\">\n",
       "      <th></th>\n",
       "      <th>star</th>\n",
       "      <th>date</th>\n",
       "      <th>vendor</th>\n",
       "      <th>review</th>\n",
       "      <th>help</th>\n",
       "      <th>review_r</th>\n",
       "      <th>tokenized</th>\n",
       "      <th>label</th>\n",
       "    </tr>\n",
       "  </thead>\n",
       "  <tbody>\n",
       "    <tr>\n",
       "      <th>32</th>\n",
       "      <td>1</td>\n",
       "      <td>2021.12.05</td>\n",
       "      <td>쿠팡(주)</td>\n",
       "      <td>새로산 모니터에 쓰려고 구매했는데 끼고나서 분해되서 빼 새로산 모니터에 쓰려고 구매...</td>\n",
       "      <td>0</td>\n",
       "      <td>새로 산 모니터에 쓰려고 구매했는데 끼고 나서 분해돼서 빼 새로 산 모니터에 쓰려...</td>\n",
       "      <td>['새로', '산', '모니터', '에', '쓰려고', '구매', '했는데', '끼...</td>\n",
       "      <td>0</td>\n",
       "    </tr>\n",
       "    <tr>\n",
       "      <th>38</th>\n",
       "      <td>1</td>\n",
       "      <td>2022.03.18</td>\n",
       "      <td>쿠팡(주)</td>\n",
       "      <td>제가 구입한 케이블은 불량인가요아님 앞서 구매한 분들과는 다른 제품인가요 3시간 정...</td>\n",
       "      <td>1</td>\n",
       "      <td>제가 구입한 케이블은 불량인 가요 아니면 앞서 구매한 분들과는 다른 제품인가요 3...</td>\n",
       "      <td>['제', '가', '구입', '한', '케이블', '은', '불량', '인', '...</td>\n",
       "      <td>0</td>\n",
       "    </tr>\n",
       "    <tr>\n",
       "      <th>49</th>\n",
       "      <td>1</td>\n",
       "      <td>2021.01.14</td>\n",
       "      <td>쿠팡(주)</td>\n",
       "      <td>사용중에 갑자기 인식이 안되더니 그뒤로 작동을 안함</td>\n",
       "      <td>4</td>\n",
       "      <td>사용 중에 갑자기 인식이 안되더니 그 뒤로 작동을 안 함</td>\n",
       "      <td>['사용', '중', '에', '갑자기', '인식', '이', '안되더니', '그'...</td>\n",
       "      <td>0</td>\n",
       "    </tr>\n",
       "    <tr>\n",
       "      <th>52</th>\n",
       "      <td>1</td>\n",
       "      <td>2020.10.20</td>\n",
       "      <td>쿠팡(주)</td>\n",
       "      <td>사지마삼 쓰레기</td>\n",
       "      <td>0</td>\n",
       "      <td>사지 마감 쓰레기</td>\n",
       "      <td>['사지', '마감', '쓰레기']</td>\n",
       "      <td>0</td>\n",
       "    </tr>\n",
       "    <tr>\n",
       "      <th>64</th>\n",
       "      <td>1</td>\n",
       "      <td>2020.11.07</td>\n",
       "      <td>쿠팡(주)</td>\n",
       "      <td>개인적으로 별로에여</td>\n",
       "      <td>0</td>\n",
       "      <td>개인적으로 별로에 여</td>\n",
       "      <td>['개인', '적', '으로', '별로', '에', '여']</td>\n",
       "      <td>0</td>\n",
       "    </tr>\n",
       "    <tr>\n",
       "      <th>...</th>\n",
       "      <td>...</td>\n",
       "      <td>...</td>\n",
       "      <td>...</td>\n",
       "      <td>...</td>\n",
       "      <td>...</td>\n",
       "      <td>...</td>\n",
       "      <td>...</td>\n",
       "      <td>...</td>\n",
       "    </tr>\n",
       "    <tr>\n",
       "      <th>144875</th>\n",
       "      <td>5</td>\n",
       "      <td>2021.10.12</td>\n",
       "      <td>주식회사 쓰리윈즈</td>\n",
       "      <td>너무 좋아용 잘 돌아가고 배송도 빨라요</td>\n",
       "      <td>0</td>\n",
       "      <td>너무 좋아요 잘 돌아가고 배송도 빨라요</td>\n",
       "      <td>['너무', '좋아요', '잘', '돌아가고', '배송', '도', '빨라요']</td>\n",
       "      <td>1</td>\n",
       "    </tr>\n",
       "    <tr>\n",
       "      <th>144877</th>\n",
       "      <td>5</td>\n",
       "      <td>2022.08.18</td>\n",
       "      <td>쿠팡(주)</td>\n",
       "      <td>게이밍 모니터를 찾던 와중 쿠팡체험단에 당첨되서 BattleG 686cm FHD 유...</td>\n",
       "      <td>3</td>\n",
       "      <td>게이밍 모니터를 찾던 와중 쿠팡 체험단에 당첨돼서 BattleG 686cm FHD ...</td>\n",
       "      <td>['게이', '밍', '모니터', '를', '찾던', '와중', '쿠팡', '체험'...</td>\n",
       "      <td>1</td>\n",
       "    </tr>\n",
       "    <tr>\n",
       "      <th>144879</th>\n",
       "      <td>5</td>\n",
       "      <td>2021.04.07</td>\n",
       "      <td>쿠팡(주)</td>\n",
       "      <td>처음 받을땐 불량이 왔지만 처음 받은 상품이 불량이라 기분이 상했지만 쿠팡의 빠른 ...</td>\n",
       "      <td>5</td>\n",
       "      <td>처음 받을 땐 불량이 왔지만 처음 받은 상품이 불량이라 기분이 상했지만 쿠팡의 빠른...</td>\n",
       "      <td>['처음', '받을', '땐', '불량', '이', '왔지만', '처음', '받은'...</td>\n",
       "      <td>1</td>\n",
       "    </tr>\n",
       "    <tr>\n",
       "      <th>144880</th>\n",
       "      <td>5</td>\n",
       "      <td>2021.05.26</td>\n",
       "      <td>쿠팡(주)</td>\n",
       "      <td>불량화소 없이 양품으로왔고 포장도 꼼꼼히왔습니다</td>\n",
       "      <td>1</td>\n",
       "      <td>불량화소 없이 양 품으로 왔고 포장도 꼼꼼히 왔습니다</td>\n",
       "      <td>['불량화소', '없이', '양', '품', '으로', '왔고', '포장', '도'...</td>\n",
       "      <td>1</td>\n",
       "    </tr>\n",
       "    <tr>\n",
       "      <th>144881</th>\n",
       "      <td>5</td>\n",
       "      <td>2021.06.26</td>\n",
       "      <td>쿠팡(주)</td>\n",
       "      <td>불량화소 없고 총알 배송 빨라서 좋아요</td>\n",
       "      <td>0</td>\n",
       "      <td>불량화소 없고 총알 배송 빨라서 좋아요</td>\n",
       "      <td>['불량화소', '없고', '총알', '배송', '빨', '라서', '좋아요']</td>\n",
       "      <td>1</td>\n",
       "    </tr>\n",
       "  </tbody>\n",
       "</table>\n",
       "<p>114756 rows × 8 columns</p>\n",
       "</div>"
      ],
      "text/plain": [
       "        star        date     vendor  \\\n",
       "32         1  2021.12.05      쿠팡(주)   \n",
       "38         1  2022.03.18      쿠팡(주)   \n",
       "49         1  2021.01.14      쿠팡(주)   \n",
       "52         1  2020.10.20      쿠팡(주)   \n",
       "64         1  2020.11.07      쿠팡(주)   \n",
       "...      ...         ...        ...   \n",
       "144875     5  2021.10.12  주식회사 쓰리윈즈   \n",
       "144877     5  2022.08.18      쿠팡(주)   \n",
       "144879     5  2021.04.07      쿠팡(주)   \n",
       "144880     5  2021.05.26      쿠팡(주)   \n",
       "144881     5  2021.06.26      쿠팡(주)   \n",
       "\n",
       "                                                   review  help  \\\n",
       "32      새로산 모니터에 쓰려고 구매했는데 끼고나서 분해되서 빼 새로산 모니터에 쓰려고 구매...     0   \n",
       "38      제가 구입한 케이블은 불량인가요아님 앞서 구매한 분들과는 다른 제품인가요 3시간 정...     1   \n",
       "49                           사용중에 갑자기 인식이 안되더니 그뒤로 작동을 안함     4   \n",
       "52                                               사지마삼 쓰레기     0   \n",
       "64                                             개인적으로 별로에여     0   \n",
       "...                                                   ...   ...   \n",
       "144875                             너무 좋아용 잘 돌아가고 배송도 빨라요      0   \n",
       "144877  게이밍 모니터를 찾던 와중 쿠팡체험단에 당첨되서 BattleG 686cm FHD 유...     3   \n",
       "144879  처음 받을땐 불량이 왔지만 처음 받은 상품이 불량이라 기분이 상했지만 쿠팡의 빠른 ...     5   \n",
       "144880                         불량화소 없이 양품으로왔고 포장도 꼼꼼히왔습니다     1   \n",
       "144881                             불량화소 없고 총알 배송 빨라서 좋아요      0   \n",
       "\n",
       "                                                 review_r  \\\n",
       "32       새로 산 모니터에 쓰려고 구매했는데 끼고 나서 분해돼서 빼 새로 산 모니터에 쓰려...   \n",
       "38       제가 구입한 케이블은 불량인 가요 아니면 앞서 구매한 분들과는 다른 제품인가요 3...   \n",
       "49                        사용 중에 갑자기 인식이 안되더니 그 뒤로 작동을 안 함   \n",
       "52                                              사지 마감 쓰레기   \n",
       "64                                            개인적으로 별로에 여   \n",
       "...                                                   ...   \n",
       "144875                             너무 좋아요 잘 돌아가고 배송도 빨라요    \n",
       "144877  게이밍 모니터를 찾던 와중 쿠팡 체험단에 당첨돼서 BattleG 686cm FHD ...   \n",
       "144879  처음 받을 땐 불량이 왔지만 처음 받은 상품이 불량이라 기분이 상했지만 쿠팡의 빠른...   \n",
       "144880                      불량화소 없이 양 품으로 왔고 포장도 꼼꼼히 왔습니다   \n",
       "144881                             불량화소 없고 총알 배송 빨라서 좋아요    \n",
       "\n",
       "                                                tokenized  label  \n",
       "32      ['새로', '산', '모니터', '에', '쓰려고', '구매', '했는데', '끼...      0  \n",
       "38      ['제', '가', '구입', '한', '케이블', '은', '불량', '인', '...      0  \n",
       "49      ['사용', '중', '에', '갑자기', '인식', '이', '안되더니', '그'...      0  \n",
       "52                                    ['사지', '마감', '쓰레기']      0  \n",
       "64                      ['개인', '적', '으로', '별로', '에', '여']      0  \n",
       "...                                                   ...    ...  \n",
       "144875       ['너무', '좋아요', '잘', '돌아가고', '배송', '도', '빨라요']      1  \n",
       "144877  ['게이', '밍', '모니터', '를', '찾던', '와중', '쿠팡', '체험'...      1  \n",
       "144879  ['처음', '받을', '땐', '불량', '이', '왔지만', '처음', '받은'...      1  \n",
       "144880  ['불량화소', '없이', '양', '품', '으로', '왔고', '포장', '도'...      1  \n",
       "144881       ['불량화소', '없고', '총알', '배송', '빨', '라서', '좋아요']      1  \n",
       "\n",
       "[114756 rows x 8 columns]"
      ]
     },
     "execution_count": 28,
     "metadata": {},
     "output_type": "execute_result"
    }
   ],
   "source": [
    "data2 = data[data['star']==1]\n",
    "data2 = data2.append(data[data['star']==2])\n",
    "data2 = data2.append(data[data['star']==5])\n",
    "data2"
   ]
  },
  {
   "cell_type": "code",
   "execution_count": 29,
   "metadata": {},
   "outputs": [],
   "source": [
    "data2.reset_index(inplace=True)"
   ]
  },
  {
   "cell_type": "code",
   "execution_count": 30,
   "metadata": {},
   "outputs": [
    {
     "name": "stdout",
     "output_type": "stream",
     "text": [
      "부정 댓글: 13553개, 11.81%\n",
      "긍정 댓글: 101203개, 88.19%\n",
      "\n",
      "1    101203\n",
      "0     13553\n",
      "Name: label, dtype: int64\n"
     ]
    },
    {
     "data": {
      "image/png": "[encoded data removed]",
      "text/plain": [
       "<Figure size 640x480 with 1 Axes>"
      ]
     },
     "metadata": {},
     "output_type": "display_data"
    }
   ],
   "source": [
    "print_class_num(data2, 'label')"
   ]
  },
  {
   "cell_type": "code",
   "execution_count": null,
   "metadata": {},
   "outputs": [],
   "source": [
    "from transformers import BertTokenizer\n",
    "\n",
    "bert_tokenizer = BertTokenizer.from_pretrained(\"bert-base-uncased\")"
   ]
  },
  {
   "cell_type": "code",
   "execution_count": 31,
   "metadata": {},
   "outputs": [],
   "source": [
    "from kss import split_sentences"
   ]
  },
  {
   "cell_type": "code",
   "execution_count": 43,
   "metadata": {},
   "outputs": [
    {
     "data": {
      "text/html": [
       "<div>\n",
       "<style scoped>\n",
       "    .dataframe tbody tr th:only-of-type {\n",
       "        vertical-align: middle;\n",
       "    }\n",
       "\n",
       "    .dataframe tbody tr th {\n",
       "        vertical-align: top;\n",
       "    }\n",
       "\n",
       "    .dataframe thead th {\n",
       "        text-align: right;\n",
       "    }\n",
       "</style>\n",
       "<table border=\"1\" class=\"dataframe\">\n",
       "  <thead>\n",
       "    <tr style=\"text-align: right;\">\n",
       "      <th></th>\n",
       "      <th>sents</th>\n",
       "      <th>label</th>\n",
       "    </tr>\n",
       "  </thead>\n",
       "  <tbody>\n",
       "  </tbody>\n",
       "</table>\n",
       "</div>"
      ],
      "text/plain": [
       "Empty DataFrame\n",
       "Columns: [sents, label]\n",
       "Index: []"
      ]
     },
     "execution_count": 43,
     "metadata": {},
     "output_type": "execute_result"
    }
   ],
   "source": [
    "tokenized = pd.DataFrame(columns=['sents', 'label'])\n",
    "tokenized\n"
   ]
  },
  {
   "cell_type": "code",
   "execution_count": 45,
   "metadata": {},
   "outputs": [],
   "source": [
    "for sents, label in zip(data2['review_r'], data2['label']):\n",
    "  for sent in split_sentences(sents):\n",
    "#  tokenized.append(bert_tokenizer(sent))\n",
    "    t = bert_tokenizer.encode_plus(sent,\n",
    "                                  add_special_tokens=True,\n",
    "                                  max_length=30,\n",
    "                                  padding='max_length',\n",
    "                                  return_attention_mask=True)\n",
    "    tokenized = pd.concat([tokenized, pd.Series([t, label])])"
   ]
  },
  {
   "cell_type": "code",
   "execution_count": null,
   "metadata": {},
   "outputs": [],
   "source": []
  }
 ],
 "metadata": {
  "kernelspec": {
   "display_name": "Python 3.9.13 ('web')",
   "language": "python",
   "name": "python3"
  },
  "language_info": {
   "codemirror_mode": {
    "name": "ipython",
    "version": 3
   },
   "file_extension": ".py",
   "mimetype": "text/x-python",
   "name": "python",
   "nbconvert_exporter": "python",
   "pygments_lexer": "ipython3",
   "version": "3.9.13"
  },
  "orig_nbformat": 4,
  "vscode": {
   "interpreter": {
    "hash": "a5e7e8f872320555b50ac54370c74f1f286190517b375e4238474aa45f483ea0"
   }
  }
 },
 "nbformat": 4,
 "nbformat_minor": 2
}
