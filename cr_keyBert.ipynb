{
 "cells": [
  {
   "cell_type": "code",
   "execution_count": 3,
   "metadata": {},
   "outputs": [],
   "source": [
    "import numpy as np\n",
    "import pandas as pd\n",
    "import itertools\n",
    "\n",
    "from sklearn.feature_extraction.text import CountVectorizer\n",
    "from sklearn.metrics.pairwise import cosine_similarity\n",
    "from sentence_transformers import SentenceTransformer\n",
    "from konlpy.tag import Okt"
   ]
  },
  {
   "cell_type": "code",
   "execution_count": 4,
   "metadata": {},
   "outputs": [],
   "source": [
    "data = pd.read_csv('./test_review.csv')\n",
    "data.columns = ['star', 'date', 'store', 'review', 'help']"
   ]
  },
  {
   "cell_type": "code",
   "execution_count": 5,
   "metadata": {},
   "outputs": [],
   "source": [
    "from hanspell import spell_checker\n",
    "import re\n",
    "\n",
    "def data_preprocessing(review):\n",
    "    pattern = '[^\\w\\s]'         # 특수기호제거'[^\\w\\sㄱ-ㅎㅏ-ㅣ]' \n",
    "    review = re.sub(pattern=pattern, repl='', string=review)\n",
    "    review = re.sub(pattern='[\\s]+', repl=' ', string=review)\n",
    "    return spell_checker.check(review).checked"
   ]
  },
  {
   "cell_type": "code",
   "execution_count": 6,
   "metadata": {},
   "outputs": [
    {
     "name": "stderr",
     "output_type": "stream",
     "text": [
      "100%|██████████| 29/29 [00:02<00:00, 11.00it/s]\n"
     ]
    }
   ],
   "source": [
    "from tqdm import tqdm\n",
    "tqdm.pandas()\n",
    "\n",
    "data['review'] = data['review'].progress_apply(data_preprocessing)"
   ]
  },
  {
   "cell_type": "code",
   "execution_count": 7,
   "metadata": {},
   "outputs": [
    {
     "data": {
      "text/html": [
       "<div>\n",
       "<style scoped>\n",
       "    .dataframe tbody tr th:only-of-type {\n",
       "        vertical-align: middle;\n",
       "    }\n",
       "\n",
       "    .dataframe tbody tr th {\n",
       "        vertical-align: top;\n",
       "    }\n",
       "\n",
       "    .dataframe thead th {\n",
       "        text-align: right;\n",
       "    }\n",
       "</style>\n",
       "<table border=\"1\" class=\"dataframe\">\n",
       "  <thead>\n",
       "    <tr style=\"text-align: right;\">\n",
       "      <th></th>\n",
       "      <th>star</th>\n",
       "      <th>date</th>\n",
       "      <th>store</th>\n",
       "      <th>review</th>\n",
       "      <th>help</th>\n",
       "    </tr>\n",
       "  </thead>\n",
       "  <tbody>\n",
       "    <tr>\n",
       "      <th>0</th>\n",
       "      <td>5</td>\n",
       "      <td>2022.08.08</td>\n",
       "      <td>쿠팡(주)</td>\n",
       "      <td></td>\n",
       "      <td>6</td>\n",
       "    </tr>\n",
       "    <tr>\n",
       "      <th>1</th>\n",
       "      <td>4</td>\n",
       "      <td>2022.08.04</td>\n",
       "      <td>쿠팡(주)</td>\n",
       "      <td></td>\n",
       "      <td>5</td>\n",
       "    </tr>\n",
       "    <tr>\n",
       "      <th>2</th>\n",
       "      <td>5</td>\n",
       "      <td>2022.08.03</td>\n",
       "      <td>쿠팡(주)</td>\n",
       "      <td></td>\n",
       "      <td>5</td>\n",
       "    </tr>\n",
       "    <tr>\n",
       "      <th>3</th>\n",
       "      <td>5</td>\n",
       "      <td>2022.08.01</td>\n",
       "      <td>쿠팡(주)</td>\n",
       "      <td></td>\n",
       "      <td>1</td>\n",
       "    </tr>\n",
       "    <tr>\n",
       "      <th>4</th>\n",
       "      <td>5</td>\n",
       "      <td>2022.07.30</td>\n",
       "      <td>쿠팡(주)</td>\n",
       "      <td></td>\n",
       "      <td>13</td>\n",
       "    </tr>\n",
       "    <tr>\n",
       "      <th>5</th>\n",
       "      <td>5</td>\n",
       "      <td>2022.08.08</td>\n",
       "      <td>쿠팡(주)</td>\n",
       "      <td></td>\n",
       "      <td>1</td>\n",
       "    </tr>\n",
       "    <tr>\n",
       "      <th>6</th>\n",
       "      <td>5</td>\n",
       "      <td>2022.07.27</td>\n",
       "      <td>쿠팡(주)</td>\n",
       "      <td>좋아요 아이들이 방학 동안 게임하는데 TV로 연결해서 했거든요 그런데 쿠팡 체험단이...</td>\n",
       "      <td>5</td>\n",
       "    </tr>\n",
       "    <tr>\n",
       "      <th>7</th>\n",
       "      <td>5</td>\n",
       "      <td>2022.08.02</td>\n",
       "      <td>쿠팡(주)</td>\n",
       "      <td></td>\n",
       "      <td>1</td>\n",
       "    </tr>\n",
       "    <tr>\n",
       "      <th>8</th>\n",
       "      <td>4</td>\n",
       "      <td>2022.07.27</td>\n",
       "      <td>쿠팡(주)</td>\n",
       "      <td></td>\n",
       "      <td>2</td>\n",
       "    </tr>\n",
       "    <tr>\n",
       "      <th>9</th>\n",
       "      <td>5</td>\n",
       "      <td>2022.09.11</td>\n",
       "      <td>쿠팡(주)</td>\n",
       "      <td>굿굿 사무용으로 듀얼 모니터가 필요한데 인터넷용으로 사용할 거라 고사양이나 비싼 건...</td>\n",
       "      <td>0</td>\n",
       "    </tr>\n",
       "    <tr>\n",
       "      <th>10</th>\n",
       "      <td>5</td>\n",
       "      <td>2022.09.03</td>\n",
       "      <td>쿠팡(주)</td>\n",
       "      <td>이전부터 한성 22인치로 사무용 쓰고 있었는데 좀 불편한 감이 있었지만 저렴한 맛으...</td>\n",
       "      <td>1</td>\n",
       "    </tr>\n",
       "    <tr>\n",
       "      <th>11</th>\n",
       "      <td>4</td>\n",
       "      <td>2022.08.12</td>\n",
       "      <td>쿠팡(주)</td>\n",
       "      <td>구성비 재택근무 시 적당히 쓰려고 구매했어요 사이즈는 생각보다 작은 편이라 한 사이...</td>\n",
       "      <td>1</td>\n",
       "    </tr>\n",
       "    <tr>\n",
       "      <th>12</th>\n",
       "      <td>4</td>\n",
       "      <td>2022.09.03</td>\n",
       "      <td>쿠팡(주)</td>\n",
       "      <td>돈만 있으면 이거 안 살듯 그냥 일반적인 싼 모니터입니다 맥북 듀얼 모니터로 쓰는데...</td>\n",
       "      <td>1</td>\n",
       "    </tr>\n",
       "    <tr>\n",
       "      <th>13</th>\n",
       "      <td>3</td>\n",
       "      <td>2022.08.15</td>\n",
       "      <td>쿠팡(주)</td>\n",
       "      <td>나사가 안 들어가요 드라이버 넣고 돌리기도 불편하고 나사가 이게 맞나 싶네요</td>\n",
       "      <td>2</td>\n",
       "    </tr>\n",
       "    <tr>\n",
       "      <th>14</th>\n",
       "      <td>5</td>\n",
       "      <td>2022.08.29</td>\n",
       "      <td>쿠팡(주)</td>\n",
       "      <td>다 좋은데 드라이버가 필요 십자드라이버 필요해요 전 다이소에서 천 원짜리 드라이버 ...</td>\n",
       "      <td>1</td>\n",
       "    </tr>\n",
       "    <tr>\n",
       "      <th>15</th>\n",
       "      <td>5</td>\n",
       "      <td>2022.07.18</td>\n",
       "      <td>쿠팡(주)</td>\n",
       "      <td>간단작업하기 용이해요 저렴한 맛에 쓰긴 좋은 거 같아요 기본적인 기능 있고 설치도 ...</td>\n",
       "      <td>1</td>\n",
       "    </tr>\n",
       "    <tr>\n",
       "      <th>16</th>\n",
       "      <td>3</td>\n",
       "      <td>2022.08.29</td>\n",
       "      <td>쿠팡(주)</td>\n",
       "      <td>새 상품인데 흠집이 좀 나있네요 아래쪽에 그 부분이 좀 실망적입니다 뽑기를 잘못한 걸까요</td>\n",
       "      <td>1</td>\n",
       "    </tr>\n",
       "    <tr>\n",
       "      <th>17</th>\n",
       "      <td>3</td>\n",
       "      <td>2022.08.10</td>\n",
       "      <td>쿠팡(주)</td>\n",
       "      <td>조립 어렵고 수평 안 맞아요 재택근무 용으로 싸게 급하게 샀는데 나사가 잘 안 맞아...</td>\n",
       "      <td>1</td>\n",
       "    </tr>\n",
       "    <tr>\n",
       "      <th>18</th>\n",
       "      <td>5</td>\n",
       "      <td>2022.07.30</td>\n",
       "      <td>쿠팡(주)</td>\n",
       "      <td>구성비가 좋은 모니터 단 내장 오디오는 없습니다 모니터 출력 화질도 적당하고 작업용...</td>\n",
       "      <td>1</td>\n",
       "    </tr>\n",
       "    <tr>\n",
       "      <th>19</th>\n",
       "      <td>4</td>\n",
       "      <td>2022.08.08</td>\n",
       "      <td>쿠팡(주)</td>\n",
       "      <td>어제 받고 바로 설치 사용 중 구성비 좋은 제품인듯합니다</td>\n",
       "      <td>0</td>\n",
       "    </tr>\n",
       "    <tr>\n",
       "      <th>20</th>\n",
       "      <td>4</td>\n",
       "      <td>2022.07.22</td>\n",
       "      <td>쿠팡(주)</td>\n",
       "      <td>나쁘지 않은 거 같다 사이드 모니터 하기에 괜찮고 메인으로 쓰기엔 작은 거 같다 화...</td>\n",
       "      <td>1</td>\n",
       "    </tr>\n",
       "    <tr>\n",
       "      <th>21</th>\n",
       "      <td>5</td>\n",
       "      <td>2022.07.12</td>\n",
       "      <td>쿠팡(주)</td>\n",
       "      <td>보조 모니터로 쓰기 좋음 불량화소나 빛샘 없었음 한성 마크 없어져서 더 깔끔</td>\n",
       "      <td>2</td>\n",
       "    </tr>\n",
       "    <tr>\n",
       "      <th>22</th>\n",
       "      <td>5</td>\n",
       "      <td>2022.09.01</td>\n",
       "      <td>쿠팡(주)</td>\n",
       "      <td>굿 또살거밍 메인 모니터도 한성 꺼 사기러했슴</td>\n",
       "      <td>1</td>\n",
       "    </tr>\n",
       "    <tr>\n",
       "      <th>23</th>\n",
       "      <td>5</td>\n",
       "      <td>2022.07.12</td>\n",
       "      <td>쿠팡(주)</td>\n",
       "      <td>cctv 모니터 고장으로 구매 잘 되네요 설치도 쉽고 구성비 좋네요</td>\n",
       "      <td>4</td>\n",
       "    </tr>\n",
       "    <tr>\n",
       "      <th>24</th>\n",
       "      <td>3</td>\n",
       "      <td>2022.08.06</td>\n",
       "      <td>쿠팡(주)</td>\n",
       "      <td>소리 안 나오는 건 줄 몰랐어요</td>\n",
       "      <td>0</td>\n",
       "    </tr>\n",
       "    <tr>\n",
       "      <th>25</th>\n",
       "      <td>5</td>\n",
       "      <td>2022.07.31</td>\n",
       "      <td>쿠팡(주)</td>\n",
       "      <td>5개 별 준 이유 구성비 갑 설명됐죠가 성비 갑</td>\n",
       "      <td>0</td>\n",
       "    </tr>\n",
       "    <tr>\n",
       "      <th>26</th>\n",
       "      <td>1</td>\n",
       "      <td>2022.08.04</td>\n",
       "      <td>쿠팡(주)</td>\n",
       "      <td>눈부심 밝기 조절 안 하면 눈부셔서 눈깔 빠짐 밝기 조절하면 영화 볼 때 어두운 부...</td>\n",
       "      <td>4</td>\n",
       "    </tr>\n",
       "    <tr>\n",
       "      <th>27</th>\n",
       "      <td>5</td>\n",
       "      <td>2022.07.25</td>\n",
       "      <td>쿠팡(주)</td>\n",
       "      <td>적당합니다 빠른 배송과 설치도 어렵지 않고 사무용으로 적당하다는 말이 딱인 거 같아요</td>\n",
       "      <td>1</td>\n",
       "    </tr>\n",
       "    <tr>\n",
       "      <th>28</th>\n",
       "      <td>5</td>\n",
       "      <td>2022.07.08</td>\n",
       "      <td>쿠팡(주)</td>\n",
       "      <td>배송도 빠르고 유용하게 질쓰고 있습니다</td>\n",
       "      <td>0</td>\n",
       "    </tr>\n",
       "  </tbody>\n",
       "</table>\n",
       "</div>"
      ],
      "text/plain": [
       "    star        date  store  \\\n",
       "0      5  2022.08.08  쿠팡(주)   \n",
       "1      4  2022.08.04  쿠팡(주)   \n",
       "2      5  2022.08.03  쿠팡(주)   \n",
       "3      5  2022.08.01  쿠팡(주)   \n",
       "4      5  2022.07.30  쿠팡(주)   \n",
       "5      5  2022.08.08  쿠팡(주)   \n",
       "6      5  2022.07.27  쿠팡(주)   \n",
       "7      5  2022.08.02  쿠팡(주)   \n",
       "8      4  2022.07.27  쿠팡(주)   \n",
       "9      5  2022.09.11  쿠팡(주)   \n",
       "10     5  2022.09.03  쿠팡(주)   \n",
       "11     4  2022.08.12  쿠팡(주)   \n",
       "12     4  2022.09.03  쿠팡(주)   \n",
       "13     3  2022.08.15  쿠팡(주)   \n",
       "14     5  2022.08.29  쿠팡(주)   \n",
       "15     5  2022.07.18  쿠팡(주)   \n",
       "16     3  2022.08.29  쿠팡(주)   \n",
       "17     3  2022.08.10  쿠팡(주)   \n",
       "18     5  2022.07.30  쿠팡(주)   \n",
       "19     4  2022.08.08  쿠팡(주)   \n",
       "20     4  2022.07.22  쿠팡(주)   \n",
       "21     5  2022.07.12  쿠팡(주)   \n",
       "22     5  2022.09.01  쿠팡(주)   \n",
       "23     5  2022.07.12  쿠팡(주)   \n",
       "24     3  2022.08.06  쿠팡(주)   \n",
       "25     5  2022.07.31  쿠팡(주)   \n",
       "26     1  2022.08.04  쿠팡(주)   \n",
       "27     5  2022.07.25  쿠팡(주)   \n",
       "28     5  2022.07.08  쿠팡(주)   \n",
       "\n",
       "                                               review  help  \n",
       "0                                                         6  \n",
       "1                                                         5  \n",
       "2                                                         5  \n",
       "3                                                         1  \n",
       "4                                                        13  \n",
       "5                                                         1  \n",
       "6   좋아요 아이들이 방학 동안 게임하는데 TV로 연결해서 했거든요 그런데 쿠팡 체험단이...     5  \n",
       "7                                                         1  \n",
       "8                                                         2  \n",
       "9   굿굿 사무용으로 듀얼 모니터가 필요한데 인터넷용으로 사용할 거라 고사양이나 비싼 건...     0  \n",
       "10  이전부터 한성 22인치로 사무용 쓰고 있었는데 좀 불편한 감이 있었지만 저렴한 맛으...     1  \n",
       "11  구성비 재택근무 시 적당히 쓰려고 구매했어요 사이즈는 생각보다 작은 편이라 한 사이...     1  \n",
       "12  돈만 있으면 이거 안 살듯 그냥 일반적인 싼 모니터입니다 맥북 듀얼 모니터로 쓰는데...     1  \n",
       "13         나사가 안 들어가요 드라이버 넣고 돌리기도 불편하고 나사가 이게 맞나 싶네요     2  \n",
       "14  다 좋은데 드라이버가 필요 십자드라이버 필요해요 전 다이소에서 천 원짜리 드라이버 ...     1  \n",
       "15  간단작업하기 용이해요 저렴한 맛에 쓰긴 좋은 거 같아요 기본적인 기능 있고 설치도 ...     1  \n",
       "16  새 상품인데 흠집이 좀 나있네요 아래쪽에 그 부분이 좀 실망적입니다 뽑기를 잘못한 걸까요     1  \n",
       "17  조립 어렵고 수평 안 맞아요 재택근무 용으로 싸게 급하게 샀는데 나사가 잘 안 맞아...     1  \n",
       "18  구성비가 좋은 모니터 단 내장 오디오는 없습니다 모니터 출력 화질도 적당하고 작업용...     1  \n",
       "19                    어제 받고 바로 설치 사용 중 구성비 좋은 제품인듯합니다     0  \n",
       "20  나쁘지 않은 거 같다 사이드 모니터 하기에 괜찮고 메인으로 쓰기엔 작은 거 같다 화...     1  \n",
       "21         보조 모니터로 쓰기 좋음 불량화소나 빛샘 없었음 한성 마크 없어져서 더 깔끔     2  \n",
       "22                          굿 또살거밍 메인 모니터도 한성 꺼 사기러했슴     1  \n",
       "23              cctv 모니터 고장으로 구매 잘 되네요 설치도 쉽고 구성비 좋네요     4  \n",
       "24                                 소리 안 나오는 건 줄 몰랐어요      0  \n",
       "25                         5개 별 준 이유 구성비 갑 설명됐죠가 성비 갑     0  \n",
       "26  눈부심 밝기 조절 안 하면 눈부셔서 눈깔 빠짐 밝기 조절하면 영화 볼 때 어두운 부...     4  \n",
       "27    적당합니다 빠른 배송과 설치도 어렵지 않고 사무용으로 적당하다는 말이 딱인 거 같아요     1  \n",
       "28                             배송도 빠르고 유용하게 질쓰고 있습니다      0  "
      ]
     },
     "execution_count": 7,
     "metadata": {},
     "output_type": "execute_result"
    }
   ],
   "source": [
    "data"
   ]
  },
  {
   "cell_type": "code",
   "execution_count": 8,
   "metadata": {},
   "outputs": [],
   "source": [
    "test_data = []\n",
    "for idx, d in enumerate(data['review']):\n",
    "    test_data.append(d)\n",
    "    \n",
    "test_data = ' '.join(test_data)"
   ]
  },
  {
   "cell_type": "code",
   "execution_count": 9,
   "metadata": {},
   "outputs": [
    {
     "data": {
      "text/plain": [
       "['',\n",
       " '',\n",
       " '',\n",
       " '',\n",
       " '',\n",
       " '',\n",
       " '좋아요 아이들이 방학 동안 게임하는데 TV로 연결해서 했거든요 그런데 쿠팡 체험단이 되어서 모니터 보자마자 클릭클릭 무료로 제공받았습니다 설치는 정말 간단해요 나사 4개만 끼우면 끝 뒤에 전원 코드 꽂고 게임기 연결하니 바로 되네요 ᄒ오오 정말 좋아요 사이즈도 정말 적당하고 화질이야 워낙 요즘 TV들이 고화질이라 따라갈 순 없지만 이거 아주 좋아요 그냥 식탁 한쪽에 놓고 사용하기 너무 좋아요 딱하나 아쉬운 건 스피커 그래서 조만간 연결 잭 사서 스피커에 연결해서 사용해야 할 것 같아요 스포츠 게임하려면 이어폰 끼고 할 수 없으니까요 저희는 컴퓨터나 노트북 연결해서 쓸 게 아니라서 스피커가 꼭 필요하거든요 그것만 연결하면 200프로 만족할 거 같아요 가볍고 화질도 좋고 오른쪽 뒷면에 전원 등 조절하는 게 있어요 너무 만족합니다 블루투스 연결이 되네요ㅎㅎ 집에 있는 스피커랑 블루투스로 연결해서 이제 스피커도 해결돼서 게임 중입니다 쿠팡 체험단 이벤트로 상품을 무료로 제공받아 작성한 구매 후기입니다',\n",
       " '',\n",
       " '',\n",
       " '굿굿 사무용으로 듀얼 모니터가 필요한데 인터넷용으로 사용할 거라 고사양이나 비싼 건 필요 없이 보조용으로 쓸 모니터를 찾던 중 금액도 저렴해서 구매했습니다 추석 연휴 일요일인데 로켓 와우로 다음날 새벽에 받아볼 수 있다니 ㅜㅜ 너무 만족스러워요 모니터를 사게 된 이유 컴맹이라 컴퓨터로는 인터넷만 사용 사무용 보조 모니터가 필요 조립은 너무 간단했고 동봉된 HDMI 선만 연결하니 듀얼 모니터 완성 듀얼 모니터가 생겼으니 이제 열이 해봐야겠어요',\n",
       " '이전부터 한성 22인치로 사무용 쓰고 있었는데 좀 불편한 감이 있었지만 저렴한 맛으로 썼었습니다 근데 업그레이드됐네요 가격은 그대로인데 너무 좋아져서 오히려 당황했습니다 항상 좋은 방향으로 발전하시는 거 같아 추천합니다',\n",
       " '구성비 재택근무 시 적당히 쓰려고 구매했어요 사이즈는 생각보다 작은 편이라 한 사이즈 크게 살걸 살짝 후회됩니다 ㅠㅠ 설치는 생각보다 간편하나 노트북 연결하는 케이블 선을 잘못 꽂으면 화면이 깨진 것처럼 난리 나요 ㅠㅠ 불량인 줄 알고 식겁 그리고 모니터 고정하는 부분이 생각보다 약한 느낌이에요 나사를 더 조이면 될 것 같은데 귀찮아서 그냥 쓰려고요 딱 사무용으로 적당합니다',\n",
       " '돈만 있으면 이거 안 살듯 그냥 일반적인 싼 모니터입니다 맥북 듀얼 모니터로 쓰는데 글씨가 살짝 흐릿한 정도 화질에 예민한 분들은 돈 더 들여서 4k 쓰는 게 후회 안 할 거 같네요',\n",
       " '나사가 안 들어가요 드라이버 넣고 돌리기도 불편하고 나사가 이게 맞나 싶네요',\n",
       " '다 좋은데 드라이버가 필요 십자드라이버 필요해요 전 다이소에서 천 원짜리 드라이버 사서 조립했어요 조립은 그냥 나사만 조이면 돼서 그리 어렵진 않아요',\n",
       " '간단작업하기 용이해요 저렴한 맛에 쓰긴 좋은 거 같아요 기본적인 기능 있고 설치도 어렵지 않아요 화질 선명도는 기대하면 안 되지만 크게 깨져 보이는 건 없어서 괜찮아요 재택근무 자주 하는 편이라 고민하다 질렀는데 딱 그 가격만큼 하는 거 같아요 ㅋㅋ 그냥 사무 인터넷 서핑용으로 딱인 거 같아요 가끔 유튜브나 영상 볼 때도 활용은 할 거 같아요 ㅎㅎ',\n",
       " '새 상품인데 흠집이 좀 나있네요 아래쪽에 그 부분이 좀 실망적입니다 뽑기를 잘못한 걸까요',\n",
       " '조립 어렵고 수평 안 맞아요 재택근무 용으로 싸게 급하게 샀는데 나사가 잘 안 맞아서 조립하기 어렵고 전원 선이 짧아요 모니터 수평 안 맞고 기울어져 있어요',\n",
       " '구성비가 좋은 모니터 단 내장 오디오는 없습니다 모니터 출력 화질도 적당하고 작업용으로 쓰기에 무난합니다 이 정도 가격에 이 성능은 딱 구성비가 좋네요 재구매 의사 있습니다',\n",
       " '어제 받고 바로 설치 사용 중 구성비 좋은 제품인듯합니다',\n",
       " '나쁘지 않은 거 같다 사이드 모니터 하기에 괜찮고 메인으로 쓰기엔 작은 거 같다 화질은 그럭저럭 괜찮다',\n",
       " '보조 모니터로 쓰기 좋음 불량화소나 빛샘 없었음 한성 마크 없어져서 더 깔끔',\n",
       " '굿 또살거밍 메인 모니터도 한성 꺼 사기러했슴',\n",
       " 'cctv 모니터 고장으로 구매 잘 되네요 설치도 쉽고 구성비 좋네요',\n",
       " '소리 안 나오는 건 줄 몰랐어요 ',\n",
       " '5개 별 준 이유 구성비 갑 설명됐죠가 성비 갑',\n",
       " '눈부심 밝기 조절 안 하면 눈부셔서 눈깔 빠짐 밝기 조절하면 영화 볼 때 어두운 부분 안 보임 쿠팡 체험단 ㅋㅋ 리뷰 솔직해집시다',\n",
       " '적당합니다 빠른 배송과 설치도 어렵지 않고 사무용으로 적당하다는 말이 딱인 거 같아요',\n",
       " '배송도 빠르고 유용하게 질쓰고 있습니다 ']"
      ]
     },
     "execution_count": 9,
     "metadata": {},
     "output_type": "execute_result"
    }
   ],
   "source": [
    "data['review'].tolist()"
   ]
  },
  {
   "cell_type": "code",
   "execution_count": 28,
   "metadata": {},
   "outputs": [],
   "source": [
    "test_data = '사무용으로  딱! 현관문 앞에 배송되어 왔을 때 첨엔 깜짝 놀랬어요. 겉박스가  찌그러지고 테이핑 처리 된것이 다 떨어져 안에 내용물이 다 보였거든요.  하지만 다행인것이 겉박스 안에 모니터 메인박스가 또 있어서 제품 손상이 안 되었지요. 걱정스럽게 뜯어 봤는데 모니터가 손상되지 않도록 스티로폼이 모서리에 덪되어 안전하게 포장이 되어 있었어요. 겉포장 박스만 찌그러지고 터진거.. 이번꺼는 배송해주신 택배기사님이 조심스럽게 취급을 안하신듯 싶어요. ㅜㅜ  내용물을 꺼내 부속품들을 확인하고 조립을 해보았는데 어렵지 않았습니다. 제품의 구성과  조립방법은 다른분들의 리뷰에 상세히 나와 있으니 생략! ㅋ  다른분들의 리뷰를 보면 거의 컴퓨터본체와 연결해서 테스트를 많이 하셨길래 전 동영상에 올린것처럼 노트북과 연결을 해보았어요. 노트북과 함께 사용할때도 편리하며 잘 되었습니다.  주로 문서 작업용으로 사용할거라서 그것에 맞추어 테스트를 해보았습니다. 자유롭게 사용자에 맞추어 모니터 각도 조절도 되니 목의 피로도에 도움이 될듯 싶네요 사용 했을때 자료를 모니터에 띄어놓고 메인 모니터로 문서작업을 하니 무척 편하더라구요. 모니터 한개로 창을 두개 띄워서 작업할때보다 일의 효율성도 늘고 자료 찾기도 더 쉬웠습니다.  컴퓨터 게임은 안하는 편이지만 그래픽카드 출력하는 프레임과 모니터의  재생빈도가 엇갈리며  발생하는 찢어짐  현상을 없애주는 Freesyne 호환기술을 지원하여 화면  왜곡없이 빠르고 매끄러운 게임플레이가 가능하다고 하다네요. 하지만 전 문서작업용 용도.ㅋ  논글레어 눈부심방지 코팅과 플리커플리, 블루라이트 제어기술  탑재로 화면 깜박임이 없어 사용자를 보호 한다고 하던데  문서 작업하면서 눈의 피로도에도 도움이 될것 같습니다. 일부러 눈의 시력이 좋더라도 눈을 보호하기 위하여 블루라이트가 들어있는 시력보호안경을 끼기도 하니까...  디자인도 심플하니 깔끔해보이고 가성비도 이정도면... 용도에 맞게 괜찮은것 같습니다. ^^ 쿠팡체험단 이벤트로 상품을 무료로 제공 받아 작성한 구매 후기입니다.,'"
   ]
  },
  {
   "cell_type": "code",
   "execution_count": 10,
   "metadata": {},
   "outputs": [
    {
     "name": "stdout",
     "output_type": "stream",
     "text": [
      "품사 태깅 10개만 출력 : [('좋아요', 'Adjective'), ('아이', 'Noun'), ('들', 'Suffix'), ('이', 'Josa'), ('방학', 'Noun'), ('동안', 'Noun'), ('게임', 'Noun'), ('하는데', 'Verb'), ('TV', 'Alpha'), ('로', 'Noun')]\n",
      "명사 추출 : 아이 방학 동안 게임 로 쿠팡 체험 단 모니터 클릭 클릭 무료 제공 정말 나사 개 끝 뒤 전원 코드 게임기 바로 정말 사이즈 정말 화질 워낙 요즘 고화질 순 거 아주 그냥 식탁 한쪽 사용 하나 건 스피커 조만간 연결 잭 사서 스피커 사용 것 스포츠 게임 이어폰 끼 수 요 저희 컴퓨터 노트북 게 스피커 꼭 그것 프로 거 화질 오른쪽 면 전원 등 조절 게 블루투스 연결 집 스피커 블루투스 이제 스피커 해결 게임 중 쿠팡 체험 단 이벤트 상품 무료 제공 작성 구매 후기 굿굿 무용 듀얼 모니터 인터넷 용 사용 거 사양 건 필요 보조 용 모니터 중 금액 구매 추석 연휴 일요일 로켓 와우 다음 날 새벽 볼 수 모니터 이유 컴맹 컴퓨터 인터넷 사용 무용 보조 모니터 필요 조립 동봉 선 듀얼 모니터 완성 듀얼 모니터 이제 열 이전 한성 인치 무용 좀 감 맛 업그레이드 가격 그대로 오히려 당황 항상 방향 발전 거 추천 성비 재택근무 시 구매 사이즈 생각 편이 사이즈 크게 살걸 살짝 생각 노트북 케이블 선 잘못 화면 것 난리 불량 줄 알 식겁 모니터 고정 부분 생각 느낌 나사 더 조이 것 그냥 무용 돈 거 안 그냥 일반 모니터 맥북 듀얼 모니터 글씨 살짝 흐릿 정도 화질 분 돈 더 게 후회 안 거 나사 안 드라이버 기도 나사 이 드라이버 필요 십자 드라이버 전 다이소 천 원 드라이버 사서 조립 조립 그냥 나사 조이 간단 작업 맛 거 기본 기능 설치 화질 선 명도 안 크게 건 재택근무 자주 편이 고민 그 가격 거 그냥 사무 인터넷 서핑 용 거 가끔 유튜브 영상 볼 때 활용 거 새 상품 흠집 좀 아래쪽 그 부분 좀 실망 뽑기 잘못 요 조립 수평 안 재택근무 용 나사 안 조립 전원 선 모니터 수평 안 성비 모니터 단 내장 오디오 모니터 출력 화질 작업 용 쓰기 무난 이 정도 가격 이 성능 성비 의사 어제 바로 설치 사용 중 성비 제품 듯 거 사이드 모니터 메인 쓰기 거 화질 보조 모니터 쓰기 불량화소 빛샘 한성 마크 더 굿 또살거밍 메인 모니터 한성 슴 모니터 고장 구매 설치 성비 소리 안 건 줄 개 별 준 이유 성비 갑 설명 성비 갑 눈부심 밝기 조절 안 눈 밝기 조절 영화 볼 때 어 두운 부분 안 보임 쿠팡 체험 단 리뷰 집시 배송 설치 무용 말 거 배송 질\n"
     ]
    }
   ],
   "source": [
    "okt = Okt()\n",
    "# test_data = data['review_r'].iloc[1]\n",
    "tokenized_doc = okt.pos(test_data)\n",
    "tokenized_nouns = ' '.join([word[0] for word in tokenized_doc if word[1] == 'Noun'])\n",
    "\n",
    "print('품사 태깅 10개만 출력 :',tokenized_doc[:10])\n",
    "print('명사 추출 :',tokenized_nouns)"
   ]
  },
  {
   "cell_type": "code",
   "execution_count": 15,
   "metadata": {},
   "outputs": [
    {
     "name": "stdout",
     "output_type": "stream",
     "text": [
      "trigram 개수 : 793\n",
      "trigram 다섯개만 출력 : ['가격 그냥' '가격 그냥 사무' '가격 그냥 사무 인터넷' '가격 그대로' '가격 그대로 오히려']\n"
     ]
    }
   ],
   "source": [
    "n_gram_range = (2, 4)\n",
    "\n",
    "count = CountVectorizer(ngram_range=n_gram_range).fit([tokenized_nouns])\n",
    "candidates = count.get_feature_names_out()\n",
    "\n",
    "print('trigram 개수 :',len(candidates))\n",
    "print('trigram 다섯개만 출력 :',candidates[:5])"
   ]
  },
  {
   "cell_type": "code",
   "execution_count": 16,
   "metadata": {},
   "outputs": [],
   "source": [
    "model = SentenceTransformer('sentence-transformers/xlm-r-100langs-bert-base-nli-stsb-mean-tokens')\n",
    "doc_embedding = model.encode([test_data])\n",
    "candidate_embeddings = model.encode(candidates)"
   ]
  },
  {
   "cell_type": "code",
   "execution_count": 17,
   "metadata": {},
   "outputs": [
    {
     "name": "stdout",
     "output_type": "stream",
     "text": [
      "['동안 게임 쿠팡 체험', '이유 컴맹 컴퓨터 인터넷', '인터넷 서핑 가끔 유튜브', '게임 이어폰 저희 컴퓨터', '이유 컴맹 컴퓨터']\n"
     ]
    }
   ],
   "source": [
    "top_n = 5\n",
    "distances = cosine_similarity(doc_embedding, candidate_embeddings)\n",
    "keywords = [candidates[index] for index in distances.argsort()[0][-top_n:]]\n",
    "print(keywords)"
   ]
  },
  {
   "cell_type": "code",
   "execution_count": 18,
   "metadata": {},
   "outputs": [],
   "source": [
    "def max_sum_sim(doc_embedding, candidate_embeddings, words, top_n, nr_candidates):\n",
    "    # 문서와 각 키워드들 간의 유사도\n",
    "    distances = cosine_similarity(doc_embedding, candidate_embeddings)\n",
    "\n",
    "    # 각 키워드들 간의 유사도\n",
    "    distances_candidates = cosine_similarity(candidate_embeddings, \n",
    "                                            candidate_embeddings)\n",
    "\n",
    "    # 코사인 유사도에 기반하여 키워드들 중 상위 top_n개의 단어를 pick.\n",
    "    words_idx = list(distances.argsort()[0][-nr_candidates:])\n",
    "    words_vals = [candidates[index] for index in words_idx]\n",
    "    distances_candidates = distances_candidates[np.ix_(words_idx, words_idx)]\n",
    "\n",
    "    # 각 키워드들 중에서 가장 덜 유사한 키워드들간의 조합을 계산\n",
    "    min_sim = np.inf\n",
    "    candidate = None\n",
    "    for combination in itertools.combinations(range(len(words_idx)), top_n):\n",
    "        sim = sum([distances_candidates[i][j] for i in combination for j in combination if i != j])\n",
    "        if sim < min_sim:\n",
    "            candidate = combination\n",
    "            min_sim = sim\n",
    "\n",
    "    return [words_vals[idx] for idx in candidate]"
   ]
  },
  {
   "cell_type": "code",
   "execution_count": 19,
   "metadata": {},
   "outputs": [
    {
     "data": {
      "text/plain": [
       "['간단 작업', '재택근무 자주 편이 고민', '코드 게임기', '듀얼 모니터 인터넷', '방학 동안 게임 쿠팡']"
      ]
     },
     "execution_count": 19,
     "metadata": {},
     "output_type": "execute_result"
    }
   ],
   "source": [
    "max_sum_sim(doc_embedding, candidate_embeddings, candidates, top_n=5, nr_candidates=50)"
   ]
  },
  {
   "cell_type": "code",
   "execution_count": 95,
   "metadata": {},
   "outputs": [],
   "source": [
    "def mmr(doc_embedding, candidate_embeddings, words, top_n, diversity):\n",
    "\n",
    "    # 문서와 각 키워드들 간의 유사도가 적혀있는 리스트\n",
    "    word_doc_similarity = cosine_similarity(candidate_embeddings, doc_embedding)\n",
    "\n",
    "    # 각 키워드들 간의 유사도\n",
    "    word_similarity = cosine_similarity(candidate_embeddings)\n",
    "\n",
    "    # 문서와 가장 높은 유사도를 가진 키워드의 인덱스를 추출.\n",
    "    # 만약, 2번 문서가 가장 유사도가 높았다면\n",
    "    # keywords_idx = [2]\n",
    "    keywords_idx = [np.argmax(word_doc_similarity)]\n",
    "\n",
    "    # 가장 높은 유사도를 가진 키워드의 인덱스를 제외한 문서의 인덱스들\n",
    "    # 만약, 2번 문서가 가장 유사도가 높았다면\n",
    "    # ==> candidates_idx = [0, 1, 3, 4, 5, 6, 7, 8, 9, 10 ... 중략 ...]\n",
    "    candidates_idx = [i for i in range(len(words)) if i != keywords_idx[0]]\n",
    "\n",
    "    # 최고의 키워드는 이미 추출했으므로 top_n-1번만큼 아래를 반복.\n",
    "    # ex) top_n = 5라면, 아래의 loop는 4번 반복됨.\n",
    "    for _ in range(top_n - 1):\n",
    "        candidate_similarities = word_doc_similarity[candidates_idx, :]\n",
    "        target_similarities = np.max(word_similarity[candidates_idx][:, keywords_idx], axis=1)\n",
    "\n",
    "        # MMR을 계산\n",
    "        mmr = (1-diversity) * candidate_similarities - diversity * target_similarities.reshape(-1, 1)\n",
    "        mmr_idx = candidates_idx[np.argmax(mmr)]\n",
    "\n",
    "        # keywords & candidates를 업데이트\n",
    "        keywords_idx.append(mmr_idx)\n",
    "        candidates_idx.remove(mmr_idx)\n",
    "\n",
    "    return [words[idx] for idx in keywords_idx]"
   ]
  },
  {
   "cell_type": "code",
   "execution_count": 96,
   "metadata": {},
   "outputs": [
    {
     "data": {
      "text/plain": [
       "['이유 컴맹 컴퓨터', '연휴 일요일', '영화 두운 부분', '서핑 가끔 유튜브 영상', '재택근무 자주']"
      ]
     },
     "execution_count": 96,
     "metadata": {},
     "output_type": "execute_result"
    }
   ],
   "source": [
    "mmr(doc_embedding, candidate_embeddings, candidates, top_n=5, diversity=0.7)"
   ]
  },
  {
   "cell_type": "code",
   "execution_count": null,
   "metadata": {},
   "outputs": [],
   "source": []
  },
  {
   "cell_type": "code",
   "execution_count": null,
   "metadata": {},
   "outputs": [],
   "source": []
  }
 ],
 "metadata": {
  "kernelspec": {
   "display_name": "Python 3.9.13 ('web')",
   "language": "python",
   "name": "python3"
  },
  "language_info": {
   "codemirror_mode": {
    "name": "ipython",
    "version": 3
   },
   "file_extension": ".py",
   "mimetype": "text/x-python",
   "name": "python",
   "nbconvert_exporter": "python",
   "pygments_lexer": "ipython3",
   "version": "3.9.13"
  },
  "orig_nbformat": 4,
  "vscode": {
   "interpreter": {
    "hash": "a5e7e8f872320555b50ac54370c74f1f286190517b375e4238474aa45f483ea0"
   }
  }
 },
 "nbformat": 4,
 "nbformat_minor": 2
}
